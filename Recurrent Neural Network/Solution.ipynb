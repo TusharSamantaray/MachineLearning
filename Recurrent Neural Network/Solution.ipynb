{
 "cells": [
  {
   "cell_type": "markdown",
   "metadata": {},
   "source": [
    "# Recurrent Neural Network"
   ]
  },
  {
   "cell_type": "code",
   "execution_count": 1,
   "metadata": {
    "id": "Fegtua-dUZXb"
   },
   "outputs": [],
   "source": [
    "import pylab as pl\n",
    "import numpy as np\n",
    "import matplotlib.pyplot as pl\n",
    "import random\n",
    "%matplotlib inline"
   ]
  },
  {
   "cell_type": "code",
   "execution_count": 2,
   "metadata": {
    "id": "3XI8qz3LUZXh"
   },
   "outputs": [],
   "source": [
    "# Generate the data\n",
    "xmin = 0\n",
    "xmax = 6.28\n",
    "num_points = 100\n",
    "\n",
    "# Generate 2Hz + 3Hz noise-free sine wave\n",
    "data = np.sin(2*np.linspace(xmin,xmax,num_points)) + np.sin(3*np.linspace(xmin,xmax,num_points))"
   ]
  },
  {
   "cell_type": "code",
   "execution_count": 3,
   "metadata": {
    "colab": {
     "base_uri": "https://localhost:8080/",
     "height": 265
    },
    "id": "bzV2Xu4eUZXh",
    "outputId": "2ed7593f-9c85-46a2-af6c-5f20d3bb3782",
    "scrolled": true
   },
   "outputs": [
    {
     "data": {
      "image/png": "[encoded data removed]",
      "text/plain": [
       "<Figure size 432x288 with 1 Axes>"
      ]
     },
     "metadata": {
      "needs_background": "light"
     },
     "output_type": "display_data"
    }
   ],
   "source": [
    "_ = pl.plot(data)"
   ]
  },
  {
   "cell_type": "code",
   "execution_count": 4,
   "metadata": {
    "id": "J-DrFzPvUZXj"
   },
   "outputs": [],
   "source": [
    "def sigmoid(s):\n",
    "    return 1/(1 + np.exp(-s))\n",
    "\n",
    "\n",
    "def compute_error(pred, real):\n",
    "    loss = 0.5*(pred - real)**2\n",
    "    return loss"
   ]
  },
  {
   "cell_type": "code",
   "execution_count": 5,
   "metadata": {
    "id": "5D9kOKIsUZXj"
   },
   "outputs": [],
   "source": [
    "class simpleRNN:\n",
    "    def __init__(self):\n",
    "        neurons = 100# TODO Try different values\n",
    "        ip_dim = 1 # Input dimension\n",
    "        op_dim = 1 # Output dimension\n",
    "        self.lr = 0.005 # Learning rata TODO Try different values\n",
    "\n",
    "        self.U = np.ones([ip_dim, neurons])\n",
    "        self.W = np.random.randn(neurons, neurons)\n",
    "        self.V = np.random.randn(neurons, op_dim)\n",
    "        self.h = np.zeros((1,neurons))\n",
    "\n",
    "        \n",
    "    def feedforward(self, x):\n",
    "        for t in range(x.size):      \n",
    "            new_input = np.zeros(x.shape) \n",
    "            new_input[t] = x[t]\n",
    "            mul_u = np.dot(self.U.T, new_input[t])\n",
    "            mul_w = np.dot(self.W, self.h.T)\n",
    "            #mul_w = 0 # Setting recurrent weight w to 0\n",
    "            add = mul_w + mul_u\n",
    "            h = sigmoid(add)\n",
    "            mul_v = np.dot(self.h, self.V)\n",
    "            self.h = h.T   \n",
    "            self.yhat = mul_v\n",
    "        return self.yhat\n",
    "        \n",
    "    def backprop(self, y):\n",
    "        d_mul_v = (self.yhat - y)\n",
    "        d_l = d_mul_v*self.h   \n",
    "        self.V = self.V - self.lr*d_l.T\n",
    "\n",
    "    def compute_loss(self, y):\n",
    "        loss = compute_error(self.yhat, y)\n",
    "        #print('Error :', loss)\n",
    "        return loss\n",
    "    \n",
    "model = simpleRNN()"
   ]
  },
  {
   "cell_type": "code",
   "execution_count": 6,
   "metadata": {
    "id": "vhMxAjqZUZXj",
    "scrolled": true
   },
   "outputs": [],
   "source": [
    "iterations = 10000 # TODO Try different values \n",
    "minibatch_size = 25 # TODO Try different values\n",
    "loss = np.zeros((iterations,1))\n",
    "for i in range(iterations):\n",
    "    data_noise = data + np.random.normal(0, 0.1, num_points) # TODO add some noise at every trial \n",
    "    start_time = random.randint(0, num_points-minibatch_size-2) # extra -1 for the prediction step\n",
    "    model.feedforward(data_noise[start_time:start_time+minibatch_size])\n",
    "    model.backprop(data_noise[start_time+minibatch_size+1])\n",
    "    loss[i] = model.compute_loss(data_noise[start_time+minibatch_size+1])"
   ]
  },
  {
   "cell_type": "code",
   "execution_count": 7,
   "metadata": {
    "colab": {
     "base_uri": "https://localhost:8080/",
     "height": 279
    },
    "id": "lSuwL1QYUZXk",
    "outputId": "e524fba3-520c-4b01-b4e7-cf495f792ab1"
   },
   "outputs": [
    {
     "data": {
      "image/png": "[encoded data removed]",
      "text/plain": [
       "<Figure size 432x288 with 1 Axes>"
      ]
     },
     "metadata": {
      "needs_background": "light"
     },
     "output_type": "display_data"
    }
   ],
   "source": [
    "pl.plot(loss)\n",
    "_ = pl.xlabel('Iteration')\n",
    "_ = pl.ylabel('Error')"
   ]
  },
  {
   "cell_type": "code",
   "execution_count": 8,
   "metadata": {
    "id": "IBuNvwXsUZXk"
   },
   "outputs": [],
   "source": [
    "y = np.zeros((len(data)-minibatch_size-2,1))\n",
    "for start_time in range(len(data)-minibatch_size-2):\n",
    "    data_noise = data + np.random.normal(0, 0.1, num_points) # TODO add some noise at every trial \n",
    "    y[start_time] = model.feedforward(data_noise[start_time:start_time+minibatch_size])"
   ]
  },
  {
   "cell_type": "code",
   "execution_count": 9,
   "metadata": {
    "colab": {
     "base_uri": "https://localhost:8080/",
     "height": 265
    },
    "id": "1rA2ImgzUZXl",
    "outputId": "edfb99e6-7dad-409f-a979-4c4ff36e8fef"
   },
   "outputs": [
    {
     "data": {
      "image/png": "[encoded data removed]",
      "text/plain": [
       "<Figure size 432x288 with 1 Axes>"
      ]
     },
     "metadata": {
      "needs_background": "light"
     },
     "output_type": "display_data"
    }
   ],
   "source": [
    "_ = pl.plot(data_noise[minibatch_size:len(data)-1])\n",
    "_ = pl.plot(y)"
   ]
  },
  {
   "cell_type": "markdown",
   "metadata": {},
   "source": [
    "# Report\n",
    "\n",
    "Note - The plots shown below would not necessasarily be the exactly the same everytime we run the code using those parameter values as the 'start_time' is a random value in a range, which then picks a random subset of the available data to train on. However, a reasonably similar plot is expected."
   ]
  },
  {
   "cell_type": "markdown",
   "metadata": {},
   "source": [
    "# 1. Result without adding noise to the data\n",
    "\n",
    "Parameters sets:\n",
    "neurons = 100,\n",
    "lr = 0.005,\n",
    "iterations = 10000,\n",
    "minibatch_size = 25\n",
    "\n",
    "Plot of Iterations vs Error\n",
    "<img src=\"Screenshots/wihtout_noise_loss.png\">\n",
    "\n",
    "We can notice that the error decereases and converges to a value after few iterations.\n",
    "<img src=\"Screenshots/wihtout_noise_predictions.png\">\n",
    "\n",
    "The plot of predicted values follows the same upward and downward trend of the actual values with few incorrect hops.\n",
    "\n",
    "\n",
    "### Decreasing the learning rate\n",
    "Parameters sets:\n",
    "neurons = 100,\n",
    "lr = 0.001,\n",
    "iterations = 10000,\n",
    "minibatch_size = 25\n",
    "\n",
    "Plot of Iterations vs Error\n",
    "<img src=\"Screenshots/wihtout_noise_loss_lr.png\">\n",
    "\n",
    "We can notice that the error decereases and converges to a value after few iterations. However, the error slightly increases from the previous case.\n",
    "<img src=\"Screenshots/wihtout_noise_predictions_lr.png\">\n",
    "\n",
    "We notice that the predicted values of the sine wave have sharp turns. Thought the predicted plot follow similar pattern to the actual values, the predicted values are reasonably mostly far away from the actual values.\n",
    "\n",
    "### Increase minibatch_size and decreasing iterations\n",
    "Parameters sets:\n",
    "neurons = 100,\n",
    "lr = 0.005,\n",
    "iterations = 5000,\n",
    "minibatch_size = 35\n",
    "\n",
    "Plot of Iterations vs Error\n",
    "<img src=\"Screenshots/wihtout_noise_loss_iter_batch.png\">\n",
    "\n",
    "We can notice that the error decreases when we increase decrease the number of iterations and increase the minibatch_size, but the error after 5000 iterations is more than in previous cases.\n",
    "<img src=\"Screenshots/wihtout_noise_predictions_iter_batch.png\">\n",
    "\n",
    "From the plot, we see that the predicted values are not close to the actual values.\n",
    "\n",
    "### Increasing the neurons\n",
    "Parameters sets:\n",
    "neurons = 200,\n",
    "lr = 0.001,\n",
    "iterations = 10000,\n",
    "minibatch_size = 25\n",
    "\n",
    "Plot of Iterations vs Error\n",
    "<img src=\"Screenshots/wihtout_noise_loss_neurons.png\">\n",
    "\n",
    "We can notice that the error keeps increasing when we increase the number of neurons to 200.\n",
    "<img src=\"Screenshots/wihtout_noise_predictions_neurons.png\">\n",
    "\n",
    "From the above plot, we see the predicted values are very sharp and inaccurate to the actual values."
   ]
  },
  {
   "cell_type": "markdown",
   "metadata": {},
   "source": [
    "\n"
   ]
  },
  {
   "cell_type": "markdown",
   "metadata": {},
   "source": [
    "# 2. Results with adding noise to the data\n",
    "\n",
    "Parameters sets:\n",
    "neurons = 100,\n",
    "lr = 0.005,\n",
    "iterations = 10000,\n",
    "minibatch_size = 25\n",
    "\n",
    "Plot of Iterations vs Error\n",
    "<img src=\"Screenshots/with_noise_loss.png\">\n",
    "\n",
    "We can notice that the error decereases and converges to a value after few iterations.\n",
    "<img src=\"Screenshots/with_noise_predictions.png\">\n",
    "\n",
    "As we can notice, data with noise took more iterations to converge the loss to a minimum value. Then, the predicted plots also has sharper edges while without noise the predicted plot graph was smooth without sharp turns. The predicted plot still follows a similar trend to the actual values.\n",
    "\n",
    "### Increasing the learning rate\n",
    "Parameters sets:\n",
    "neurons = 100,\n",
    "lr = 0.01,\n",
    "iterations = 10000,\n",
    "minibatch_size = 25\n",
    "\n",
    "Plot of Iterations vs Error\n",
    "<img src=\"Screenshots/with_noise_loss_lr.png\">\n",
    "\n",
    "We can notice that the error decereases and converges to a value after few iterations.\n",
    "<img src=\"Screenshots/with_noise_predictions_lr.png\">\n",
    "\n",
    "As we can see from the above plot, increasing the learning rate brings the predicted values closer to the actual values. The predicted plot is much closer to the actual values as compared to the predictions produced with lesser learning rate.\n",
    "\n",
    "### Decreasing minibatch_size and increasing iterations\n",
    "Parameters sets:\n",
    "neurons = 100,\n",
    "lr = 0.005,\n",
    "iterations = 15000,\n",
    "minibatch_size = 15\n",
    "\n",
    "Plot of Iterations vs Error\n",
    "<img src=\"Screenshots/with_noise_loss_iter_batch.png\">\n",
    "\n",
    "We can notice that the loss does not converge to a value. The loss also is more than the previous cases.\n",
    "\n",
    "<img src=\"Screenshots/with_noise_predictions_iter_batch.png\">\n",
    "\n",
    "As we can see that the predictions almost follow a similar trend to the actual values. There predicted plot gets a massive noise in certain regions of the plots where the predicted values are far away from the actual ones. Nevertheless, the overall plot follows the actual values closely.\n",
    "\n",
    "### Decreasing the neurons\n",
    "Parameters sets:\n",
    "neurons = 50,\n",
    "lr = 0.005,\n",
    "iterations = 10000,\n",
    "minibatch_size = 25\n",
    "\n",
    "Plot of Iterations vs Error\n",
    "<img src=\"Screenshots/with_noise_loss_neurons.png\">\n",
    "\n",
    "We can notice that the error decereases and converges to a value after few iterations. However, the error is comparatively more than the initially set parameters.\n",
    "<img src=\"Screenshots/with_noise_predictions_neurons1.png\">\n",
    "\n",
    "The predicted values follow the actual values closely. With some sharp turns in the plot, the predicted values are quite close to the actual ones."
   ]
  },
  {
   "cell_type": "markdown",
   "metadata": {},
   "source": [
    "# Measures to improve the results of the RNN netwrok\n",
    "\n",
    "1. We might use an adaptive learning rate as they can handle the complex training dynamics of recurrent networks as compared to plain gradient descent. Most common adaptive learning rate optimizer that is used is Adam optimizer.\n",
    "2. We could normalise te loss, as normalising loss get losses to similar magnitude over datasets. The loss should be averaged across the batch.\n",
    "3. We could use gradient clipping to plot the gradient to see its usual range and then scale down gradient that exceeds this range, to prevent spikes in gradients to alter the parameters too much during training.\n",
    "4. Decreasing the number of neurons and using a comparatively higher learning rate helps in obtaining better results.\n",
    "5. Reducing the minibatch_size tends to produce inferior results, and hence, using a reasonably high minibatch_size might generate better results."
   ]
  },
  {
   "cell_type": "markdown",
   "metadata": {},
   "source": [
    "# 3. Setting recurrent weight W to 0\n",
    "\n",
    "Parameters sets:\n",
    "neurons = 100,\n",
    "lr = 0.005,\n",
    "iterations = 10000,\n",
    "minibatch_size = 25\n",
    "\n",
    "Plot of Iterations vs Error\n",
    "<img src=\"Screenshots/W0_loss.png\">\n",
    "\n",
    "From the above plot, we can see that the error converges quickly to a value and stays almost the same as the iterations increases.\n",
    "\n",
    "We can notice that the error decereases and converges to a value after few iterations.\n",
    "<img src=\"Screenshots/W0_predictions.png\">\n",
    "\n",
    "We can notice that the predicted values of the sine wave produces an almost linear graph. And even those the predicted values are almost linear, they still show to follow the rise and fall patterns of the actual values. Hence, when we set the trainable weights to 0, we get incorrect predictions."
   ]
  },
  {
   "cell_type": "code",
   "execution_count": null,
   "metadata": {},
   "outputs": [],
   "source": []
  }
 ],
 "metadata": {
  "colab": {
   "collapsed_sections": [],
   "name": "ProgrammingProject2B555Spring21.ipynb",
   "provenance": []
  },
  "kernelspec": {
   "display_name": "Python 3",
   "language": "python",
   "name": "python3"
  },
  "language_info": {
   "codemirror_mode": {
    "name": "ipython",
    "version": 3
   },
   "file_extension": ".py",
   "mimetype": "text/x-python",
   "name": "python",
   "nbconvert_exporter": "python",
   "pygments_lexer": "ipython3",
   "version": "3.8.3"
  }
 },
 "nbformat": 4,
 "nbformat_minor": 1
}
