version https://git-lfs.github.com/spec/v1
oid sha256:c3c53026769b9c08b7ff91326dc74d473c7718f289edebdf467263e019f7aff8
size 915870
